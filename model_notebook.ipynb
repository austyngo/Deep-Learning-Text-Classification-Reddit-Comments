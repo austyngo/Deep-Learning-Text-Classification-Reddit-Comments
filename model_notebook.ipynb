{
 "metadata": {
  "language_info": {
   "codemirror_mode": {
    "name": "ipython",
    "version": 3
   },
   "file_extension": ".py",
   "mimetype": "text/x-python",
   "name": "python",
   "nbconvert_exporter": "python",
   "pygments_lexer": "ipython3",
   "version": "3.8.5"
  },
  "orig_nbformat": 2,
  "kernelspec": {
   "name": "python3",
   "display_name": "Python 3.8.5 64-bit"
  },
  "metadata": {
   "interpreter": {
    "hash": "51e7b77de96fdeb7345b603e3533234b2511c81912670ce60af0772773035c2a"
   }
  },
  "interpreter": {
   "hash": "51e7b77de96fdeb7345b603e3533234b2511c81912670ce60af0772773035c2a"
  }
 },
 "nbformat": 4,
 "nbformat_minor": 2,
 "cells": [
  {
   "cell_type": "code",
   "execution_count": 1,
   "source": [
    "import pandas as pd \r\n",
    "import numpy as np \r\n",
    "import nltk \r\n",
    "import glob\r\n",
    "\r\n",
    "data = []\r\n",
    "all_files = glob.glob(r'data' + \"/*.csv\")\r\n",
    "\r\n",
    "for filename in all_files:\r\n",
    "    d = pd.read_csv(filename)\r\n",
    "    data.append(d)\r\n",
    "\r\n",
    "df = pd.concat(data, sort=True)\r\n",
    "\r\n",
    "df.sample(5)"
   ],
   "outputs": [
    {
     "output_type": "execute_result",
     "data": {
      "text/plain": [
       "       Unnamed: 0                                            comment  \\\n",
       "5195         5195  \\> the wild west                  \\n\\ncome on ...   \n",
       "9615         9615              Oversimplified reference in AuthLeft?   \n",
       "5159         5159  Well hold on, Somalias been around for quite a...   \n",
       "10892       10892               with my PoliticalCompassMeme-inator!   \n",
       "12072       12072  Should auld acquaintance be forgot and never b...   \n",
       "\n",
       "                       flair  \n",
       "5195   :libright: - LibRight  \n",
       "9615   :authleft: - AuthLeft  \n",
       "5159           :left: - Left  \n",
       "10892          :left: - Left  \n",
       "12072  :centrist: - Centrist  "
      ],
      "text/html": [
       "<div>\n",
       "<style scoped>\n",
       "    .dataframe tbody tr th:only-of-type {\n",
       "        vertical-align: middle;\n",
       "    }\n",
       "\n",
       "    .dataframe tbody tr th {\n",
       "        vertical-align: top;\n",
       "    }\n",
       "\n",
       "    .dataframe thead th {\n",
       "        text-align: right;\n",
       "    }\n",
       "</style>\n",
       "<table border=\"1\" class=\"dataframe\">\n",
       "  <thead>\n",
       "    <tr style=\"text-align: right;\">\n",
       "      <th></th>\n",
       "      <th>Unnamed: 0</th>\n",
       "      <th>comment</th>\n",
       "      <th>flair</th>\n",
       "    </tr>\n",
       "  </thead>\n",
       "  <tbody>\n",
       "    <tr>\n",
       "      <th>5195</th>\n",
       "      <td>5195</td>\n",
       "      <td>\\&gt; the wild west                  \\n\\ncome on ...</td>\n",
       "      <td>:libright: - LibRight</td>\n",
       "    </tr>\n",
       "    <tr>\n",
       "      <th>9615</th>\n",
       "      <td>9615</td>\n",
       "      <td>Oversimplified reference in AuthLeft?</td>\n",
       "      <td>:authleft: - AuthLeft</td>\n",
       "    </tr>\n",
       "    <tr>\n",
       "      <th>5159</th>\n",
       "      <td>5159</td>\n",
       "      <td>Well hold on, Somalias been around for quite a...</td>\n",
       "      <td>:left: - Left</td>\n",
       "    </tr>\n",
       "    <tr>\n",
       "      <th>10892</th>\n",
       "      <td>10892</td>\n",
       "      <td>with my PoliticalCompassMeme-inator!</td>\n",
       "      <td>:left: - Left</td>\n",
       "    </tr>\n",
       "    <tr>\n",
       "      <th>12072</th>\n",
       "      <td>12072</td>\n",
       "      <td>Should auld acquaintance be forgot and never b...</td>\n",
       "      <td>:centrist: - Centrist</td>\n",
       "    </tr>\n",
       "  </tbody>\n",
       "</table>\n",
       "</div>"
      ]
     },
     "metadata": {},
     "execution_count": 1
    }
   ],
   "metadata": {}
  },
  {
   "cell_type": "code",
   "execution_count": 2,
   "source": [
    "%load_ext tensorboard"
   ],
   "outputs": [],
   "metadata": {}
  },
  {
   "cell_type": "markdown",
   "source": [
    "## Data Preprocessing"
   ],
   "metadata": {}
  },
  {
   "cell_type": "code",
   "execution_count": 3,
   "source": [
    "for c in df.columns:\r\n",
    "    na_count = df[c].isna().sum()\r\n",
    "    if na_count > 0:\r\n",
    "        print(f'{c} has {na_count} nulls')\r\n",
    "    else:\r\n",
    "        print(f'{c} has no nulls')"
   ],
   "outputs": [
    {
     "output_type": "stream",
     "name": "stdout",
     "text": [
      "Unnamed: 0 has no nulls\n",
      "comment has no nulls\n",
      "flair has no nulls\n"
     ]
    }
   ],
   "metadata": {}
  },
  {
   "cell_type": "code",
   "execution_count": 4,
   "source": [
    "df = df.drop('Unnamed: 0', axis=1)"
   ],
   "outputs": [],
   "metadata": {}
  },
  {
   "cell_type": "code",
   "execution_count": 5,
   "source": [
    "#cleaing flair values\r\n",
    "df['flair'] = df['flair'].astype(str)\r\n",
    "def get_last(text):\r\n",
    "    tlist = text.split()\r\n",
    "    return tlist[-1]\r\n",
    "\r\n",
    "df['flair'] = df.apply(lambda x: get_last(x['flair']), axis=1)"
   ],
   "outputs": [],
   "metadata": {}
  },
  {
   "cell_type": "code",
   "execution_count": 6,
   "source": [
    "df['flair'].unique()"
   ],
   "outputs": [
    {
     "output_type": "execute_result",
     "data": {
      "text/plain": [
       "array(['Right', 'LibRight', 'LibLeft', 'Centrist', 'AuthCenter',\n",
       "       'LibCenter', 'AuthLeft', 'AuthRight', 'Left'], dtype=object)"
      ]
     },
     "metadata": {},
     "execution_count": 6
    }
   ],
   "metadata": {}
  },
  {
   "cell_type": "code",
   "execution_count": 7,
   "source": [
    "df['flair'].value_counts()"
   ],
   "outputs": [
    {
     "output_type": "execute_result",
     "data": {
      "text/plain": [
       "LibRight      13948\n",
       "Centrist      10709\n",
       "LibLeft        7957\n",
       "LibCenter      7694\n",
       "Right          6205\n",
       "AuthRight      5236\n",
       "AuthCenter     5037\n",
       "Left           3388\n",
       "AuthLeft       3124\n",
       "Name: flair, dtype: int64"
      ]
     },
     "metadata": {},
     "execution_count": 7
    }
   ],
   "metadata": {}
  },
  {
   "cell_type": "markdown",
   "source": [
    "### Text Preprocessing"
   ],
   "metadata": {}
  },
  {
   "cell_type": "code",
   "execution_count": 8,
   "source": [
    "#remove stopwords, punctuations and expand contractions\r\n",
    "import string\r\n",
    "from nltk.corpus import stopwords\r\n",
    "import contractions\r\n",
    "import re\r\n",
    "\r\n",
    "#stop = stopwords.words('english')\r\n",
    "punc = string.punctuation\r\n",
    " \r\n",
    "def clean_text(text):\r\n",
    "    #expand contractions\r\n",
    "    text_contract_fixed = contractions.fix(text)\r\n",
    "    #stop_removed = ' '.join([t for t in text_contract_fixed.lower().split() if t not in stop])\r\n",
    "    #remove punctiations\r\n",
    "    punc_removed = ' '.join(s for s in text_contract_fixed.split() if s not in punc)\r\n",
    "    #num_removed = re.sub(r'\\d+', '', punc_removed)\r\n",
    "    #no_doublespace = re.sub('\\s+', ' ', punc_removed).strip()\r\n",
    "    return punc_removed\r\n",
    "\r\n",
    "df['comment'] = df.apply(lambda x: clean_text(x['comment']), axis=1)"
   ],
   "outputs": [],
   "metadata": {}
  },
  {
   "cell_type": "markdown",
   "source": [
    "### Evaluating Word Counts\n",
    "Every input in the model will need to have the same length. Shorter inputs can be padded with 0's and longer inputs can be trimmed. There needs to be a set word length to minimize padding and trimming."
   ],
   "metadata": {}
  },
  {
   "cell_type": "code",
   "execution_count": 9,
   "source": [
    "#create word count column\r\n",
    "df['word_count'] = df['comment'].apply(lambda x: len(str(x).split(\" \")))\r\n",
    "\r\n",
    "print('Max:', df['word_count'].max())\r\n",
    "print('Min:', df['word_count'].min())\r\n",
    "print('Mean:', df['word_count'].mean())\r\n",
    "print('Standard Deviation:', df['word_count'].std())\r\n",
    "print('Nulls:', df['comment'].isna().sum())"
   ],
   "outputs": [
    {
     "output_type": "stream",
     "name": "stdout",
     "text": [
      "Max: 2500\n",
      "Min: 1\n",
      "Mean: 15.990205061771304\n",
      "Standard Deviation: 34.16996008147011\n",
      "Nulls: 0\n"
     ]
    }
   ],
   "metadata": {}
  },
  {
   "cell_type": "code",
   "execution_count": 10,
   "source": [
    "#drop rows with 2 or less words\r\n",
    "df = df[df['word_count']>2]\r\n",
    "\r\n",
    "print('Max:', df['word_count'].max())\r\n",
    "print('Min:', df['word_count'].min())\r\n",
    "print('Mean:', df['word_count'].mean())\r\n",
    "print('Standard Deviation:', df['word_count'].std())\r\n",
    "print('Nulls:', df['comment'].isna().sum())"
   ],
   "outputs": [
    {
     "output_type": "stream",
     "name": "stdout",
     "text": [
      "Max: 2500\n",
      "Min: 3\n",
      "Mean: 17.625480997311687\n",
      "Standard Deviation: 35.665680519638244\n",
      "Nulls: 0\n"
     ]
    }
   ],
   "metadata": {}
  },
  {
   "cell_type": "code",
   "execution_count": 11,
   "source": [
    "import matplotlib.pyplot as plt \r\n",
    "import seaborn as sns \r\n",
    "def plot_box(data, x, y):\r\n",
    "    plt.style.use('seaborn-deep')\r\n",
    "    fig, ax = plt.subplots(figsize = (14,6))\r\n",
    "    ax = sns.boxplot(data=data.sort_values(x), x= x, y= y, palette= 'Accent')\r\n",
    "    ax.set_title('Word Count Distribution by Flair')\r\n",
    "    ax.set_facecolor('#b3bdc6')\r\n",
    "    ax.set(ylim=(0, 50))\r\n",
    "\r\n",
    "plot_box(df, 'flair', 'word_count')"
   ],
   "outputs": [
    {
     "output_type": "display_data",
     "data": {
      "text/plain": [
       "<Figure size 1008x432 with 1 Axes>"
      ],
      "image/png": "[encoded data removed]"
     },
     "metadata": {
      "needs_background": "light"
     }
    }
   ],
   "metadata": {}
  },
  {
   "cell_type": "markdown",
   "source": [
    "The input length will be 42, as most comments with more words are outliers in length."
   ],
   "metadata": {}
  },
  {
   "cell_type": "markdown",
   "source": [
    "## Create Word Tokens"
   ],
   "metadata": {}
  },
  {
   "cell_type": "code",
   "execution_count": 12,
   "source": [
    "#tokenizing words\r\n",
    "\r\n",
    "from keras.preprocessing.text import Tokenizer\r\n",
    "from keras.preprocessing.sequence import pad_sequences\r\n",
    "\r\n",
    "#Maximum number of words to keep based on frequency\r\n",
    "MAX_WORDS = 50000\r\n",
    "#Max number of words in each comment. \r\n",
    "MAX_LENGTH = 42\r\n",
    "\r\n",
    "tokenizer = Tokenizer(num_words=MAX_WORDS, lower=True, oov_token='oov')\r\n",
    "tokenizer.fit_on_texts(df['comment'].values)\r\n",
    "word_index = tokenizer.word_index\r\n",
    "vocab_size = len(word_index) + 1\r\n",
    "print('Found %s unique tokens.' % len(word_index))\r\n",
    "\r\n",
    "#Rule of thumb: embedding vector dimension should be the 4th root of the number of categories\r\n",
    "EMBEDDING_DIM = round(float(len(word_index)**0.25))\r\n",
    "\r\n",
    "embedding_matrix = np.zeros((vocab_size, EMBEDDING_DIM))\r\n",
    "\r\n",
    "X = tokenizer.texts_to_sequences(df['comment'].values)\r\n",
    "X = pad_sequences(X, maxlen=MAX_LENGTH, truncating='post', padding='post')\r\n",
    "print('Shape of data tensor:', X.shape)"
   ],
   "outputs": [
    {
     "output_type": "stream",
     "name": "stdout",
     "text": [
      "Found 41979 unique tokens.\n",
      "Shape of data tensor: (56913, 42)\n"
     ]
    }
   ],
   "metadata": {}
  },
  {
   "cell_type": "code",
   "execution_count": 13,
   "source": [
    "import io\r\n",
    "import json\r\n",
    "tokenizer_json = tokenizer.to_json()\r\n",
    "with io.open('tokenizer.json', 'w', encoding='utf-8') as f:\r\n",
    "    f.write(json.dumps(tokenizer_json, ensure_ascii=False))"
   ],
   "outputs": [],
   "metadata": {}
  },
  {
   "cell_type": "markdown",
   "source": [
    "## Train-Test Split and Over Sampling"
   ],
   "metadata": {}
  },
  {
   "cell_type": "code",
   "execution_count": 14,
   "source": [
    "from sklearn.model_selection import train_test_split\r\n",
    "\r\n",
    "y = df['flair']\r\n",
    "\r\n",
    "X_train, X_test, y_train, y_test = train_test_split(  \r\n",
    "                    X, y, test_size=0.25, random_state=4)"
   ],
   "outputs": [],
   "metadata": {}
  },
  {
   "cell_type": "code",
   "execution_count": 15,
   "source": [
    "from imblearn.over_sampling import SMOTE\r\n",
    "\r\n",
    "smote = SMOTE(random_state=3, k_neighbors=5)\r\n",
    "X_train,y_train = smote.fit_resample(X_train,y_train)\r\n",
    "\r\n",
    "y_train = pd.get_dummies(y_train)\r\n",
    "y_test = pd.get_dummies(y_test)\r\n",
    "\r\n",
    "print(X_train.shape,y_train.shape)\r\n",
    "print(X_test.shape,y_test.shape)"
   ],
   "outputs": [
    {
     "output_type": "stream",
     "name": "stdout",
     "text": [
      "(85194, 42) (85194, 9)\n",
      "(14229, 42) (14229, 9)\n"
     ]
    }
   ],
   "metadata": {}
  },
  {
   "cell_type": "markdown",
   "source": [
    "## Model Creation and Hyperparameter Tuning"
   ],
   "metadata": {}
  },
  {
   "cell_type": "code",
   "execution_count": 16,
   "source": [
    "import tensorflow as tf\r\n",
    "from tensorboard.plugins.hparams import api as hp\r\n",
    "\r\n",
    "HP_UNITS = hp.HParam('units', hp.Discrete([64, 96, 128]))\r\n",
    "HP_DROPOUT = hp.HParam('dropout', hp.RealInterval(0.15, 0.2))\r\n",
    "\r\n",
    "METRIC_ACCURACY = 'accuracy'\r\n",
    "NUM_CLASSES = y_train.shape[1]\r\n",
    "\r\n",
    "with tf.summary.create_file_writer('logs/hparam_tuning').as_default():\r\n",
    "  hp.hparams_config(\r\n",
    "    hparams=[HP_UNITS, HP_DROPOUT],\r\n",
    "    metrics=[hp.Metric(METRIC_ACCURACY, display_name='Accuracy')],\r\n",
    "  )"
   ],
   "outputs": [],
   "metadata": {}
  },
  {
   "cell_type": "code",
   "execution_count": 17,
   "source": [
    "def model_build(hparams):\r\n",
    "    model = tf.keras.Sequential()\r\n",
    "    model.add(tf.keras.layers.Embedding(vocab_size, EMBEDDING_DIM, weights=[embedding_matrix], input_length=X.shape[1]))\r\n",
    "    model.add(tf.keras.layers.Bidirectional(tf.keras.layers.LSTM(units=hparams[HP_UNITS])))\r\n",
    "    model.add(tf.keras.layers.Dense(NUM_CLASSES, activation='softmax'))\r\n",
    "    model.add(tf.keras.layers.Dropout(hparams[HP_DROPOUT]))\r\n",
    "    model.compile(loss = 'categorical_crossentropy', optimizer = tf.keras.optimizers.Adam(), metrics=['accuracy'])\r\n",
    "\r\n",
    "    stop_early = tf.keras.callbacks.EarlyStopping(monitor='val_loss', patience=3)\r\n",
    "    epochs = 4\r\n",
    "    batch_size = 50\r\n",
    "\r\n",
    "    model.fit(X_train, y_train, epochs=epochs, batch_size=batch_size, validation_split=0.2, callbacks= [stop_early])\r\n",
    "    _, accuracy = model.evaluate(X_test, y_test)\r\n",
    "    \r\n",
    "    return accuracy"
   ],
   "outputs": [],
   "metadata": {}
  },
  {
   "cell_type": "code",
   "execution_count": 18,
   "source": [
    "def run(run_dir, hparams):\r\n",
    "  with tf.summary.create_file_writer(run_dir).as_default():\r\n",
    "    hp.hparams(hparams)  # record the values used in this trial\r\n",
    "    accuracy = model_build(hparams)\r\n",
    "    tf.summary.scalar(METRIC_ACCURACY, accuracy, step=1)"
   ],
   "outputs": [],
   "metadata": {}
  },
  {
   "cell_type": "code",
   "execution_count": 19,
   "source": [
    "session_num = 0\r\n",
    "\r\n",
    "for num_units in HP_UNITS.domain.values:\r\n",
    "    for dropout_rate in (HP_DROPOUT.domain.min_value, HP_DROPOUT.domain.max_value):\r\n",
    "        hparams = {\r\n",
    "            HP_UNITS: num_units,\r\n",
    "            HP_DROPOUT: dropout_rate\r\n",
    "            }\r\n",
    "        run_name = \"run-%d\" % session_num\r\n",
    "        print('--- Starting trial: %s' % run_name)\r\n",
    "        print({h.name: hparams[h] for h in hparams})\r\n",
    "        run('logs/hparam_tuning/' + run_name, hparams)\r\n",
    "        session_num += 1\r\n"
   ],
   "outputs": [
    {
     "output_type": "stream",
     "name": "stdout",
     "text": [
      "--- Starting trial: run-0\n",
      "{'units': 64, 'dropout': 0.15}\n",
      "Epoch 1/4\n",
      "1364/1364 [==============================] - 44s 30ms/step - loss: 4.0740 - accuracy: 0.1744 - val_loss: 3.6325 - val_accuracy: 0.0023\n",
      "Epoch 2/4\n",
      "1364/1364 [==============================] - 40s 29ms/step - loss: 3.9897 - accuracy: 0.2052 - val_loss: 3.7819 - val_accuracy: 0.0000e+00\n",
      "Epoch 3/4\n",
      "1364/1364 [==============================] - 40s 29ms/step - loss: 3.9661 - accuracy: 0.2226 - val_loss: 3.9072 - val_accuracy: 0.0036\n",
      "Epoch 4/4\n",
      "1364/1364 [==============================] - 40s 29ms/step - loss: 3.8876 - accuracy: 0.2558 - val_loss: 4.0890 - val_accuracy: 0.0136\n",
      "445/445 [==============================] - 2s 5ms/step - loss: 2.2857 - accuracy: 0.1833\n",
      "--- Starting trial: run-1\n",
      "{'units': 64, 'dropout': 0.2}\n",
      "Epoch 1/4\n",
      "1364/1364 [==============================] - 44s 30ms/step - loss: 4.7305 - accuracy: 0.1741 - val_loss: 3.3960 - val_accuracy: 0.0000e+00\n",
      "Epoch 2/4\n",
      "1364/1364 [==============================] - 40s 30ms/step - loss: 4.6645 - accuracy: 0.2035 - val_loss: 3.9951 - val_accuracy: 0.0000e+00\n",
      "Epoch 3/4\n",
      "1364/1364 [==============================] - 40s 30ms/step - loss: 4.6256 - accuracy: 0.2252 - val_loss: 4.0580 - val_accuracy: 0.0027\n",
      "Epoch 4/4\n",
      "1364/1364 [==============================] - 41s 30ms/step - loss: nan - accuracy: 0.2527 - val_loss: nan - val_accuracy: 0.0000e+00\n",
      "445/445 [==============================] - 2s 5ms/step - loss: nan - accuracy: 0.0789\n",
      "--- Starting trial: run-2\n",
      "{'units': 96, 'dropout': 0.15}\n",
      "Epoch 1/4\n",
      "1364/1364 [==============================] - 62s 43ms/step - loss: 4.0738 - accuracy: 0.1793 - val_loss: 3.5751 - val_accuracy: 1.7607e-04\n",
      "Epoch 2/4\n",
      "1364/1364 [==============================] - 61s 44ms/step - loss: 3.9994 - accuracy: 0.2075 - val_loss: 3.9115 - val_accuracy: 5.8689e-05\n",
      "Epoch 3/4\n",
      "1364/1364 [==============================] - 64s 47ms/step - loss: 3.9678 - accuracy: 0.2310 - val_loss: 3.9239 - val_accuracy: 0.0028\n",
      "Epoch 4/4\n",
      "1364/1364 [==============================] - 64s 47ms/step - loss: 3.8646 - accuracy: 0.2645 - val_loss: 4.1329 - val_accuracy: 0.0173\n",
      "445/445 [==============================] - 5s 10ms/step - loss: 2.3016 - accuracy: 0.1788\n",
      "--- Starting trial: run-3\n",
      "{'units': 96, 'dropout': 0.2}\n",
      "Epoch 1/4\n",
      "1364/1364 [==============================] - 73s 51ms/step - loss: 4.7229 - accuracy: 0.1745 - val_loss: 3.5042 - val_accuracy: 0.0000e+00\n",
      "Epoch 2/4\n",
      "1364/1364 [==============================] - 60s 44ms/step - loss: 4.6694 - accuracy: 0.2068 - val_loss: 3.6855 - val_accuracy: 5.8689e-05\n",
      "Epoch 3/4\n",
      "1364/1364 [==============================] - 67s 49ms/step - loss: 4.6395 - accuracy: 0.2306 - val_loss: 4.1216 - val_accuracy: 0.0028\n",
      "Epoch 4/4\n",
      "1364/1364 [==============================] - 66s 48ms/step - loss: 4.5414 - accuracy: 0.2599 - val_loss: 4.4065 - val_accuracy: 0.0070\n",
      "445/445 [==============================] - 3s 8ms/step - loss: 2.2971 - accuracy: 0.1889\n",
      "--- Starting trial: run-4\n",
      "{'units': 128, 'dropout': 0.15}\n",
      "Epoch 1/4\n",
      "1364/1364 [==============================] - 101s 72ms/step - loss: 4.0366 - accuracy: 0.1795 - val_loss: 3.5152 - val_accuracy: 0.0000e+00\n",
      "Epoch 2/4\n",
      "1364/1364 [==============================] - 76s 56ms/step - loss: 4.0470 - accuracy: 0.2051 - val_loss: 3.7984 - val_accuracy: 0.0000e+00\n",
      "Epoch 3/4\n",
      "1364/1364 [==============================] - 79s 58ms/step - loss: 3.9860 - accuracy: 0.2262 - val_loss: 4.0707 - val_accuracy: 0.0021\n",
      "Epoch 4/4\n",
      "1364/1364 [==============================] - 79s 58ms/step - loss: 3.8714 - accuracy: 0.2556 - val_loss: 4.4785 - val_accuracy: 0.0054\n",
      "445/445 [==============================] - 5s 11ms/step - loss: 2.3275 - accuracy: 0.1832\n",
      "--- Starting trial: run-5\n",
      "{'units': 128, 'dropout': 0.2}\n",
      "Epoch 1/4\n",
      "1364/1364 [==============================] - 106s 75ms/step - loss: 4.7347 - accuracy: 0.1770 - val_loss: 3.4924 - val_accuracy: 5.8689e-05\n",
      "Epoch 2/4\n",
      "1364/1364 [==============================] - 96s 71ms/step - loss: 4.6681 - accuracy: 0.2047 - val_loss: 3.7601 - val_accuracy: 5.8689e-05\n",
      "Epoch 3/4\n",
      "1364/1364 [==============================] - 99s 73ms/step - loss: 4.6610 - accuracy: 0.2178 - val_loss: 4.0523 - val_accuracy: 5.8689e-05\n",
      "Epoch 4/4\n",
      "1364/1364 [==============================] - 100s 73ms/step - loss: 4.5612 - accuracy: 0.2390 - val_loss: 4.2696 - val_accuracy: 0.0020\n",
      "445/445 [==============================] - 7s 15ms/step - loss: 2.2945 - accuracy: 0.1805\n"
     ]
    }
   ],
   "metadata": {}
  },
  {
   "cell_type": "code",
   "execution_count": 20,
   "source": [
    "model_final = tf.keras.Sequential()\r\n",
    "model_final.add(tf.keras.layers.Embedding(vocab_size, EMBEDDING_DIM, weights=[embedding_matrix], input_length=X.shape[1]))\r\n",
    "model_final.add(tf.keras.layers.Bidirectional(tf.keras.layers.LSTM(units=96)))\r\n",
    "model_final.add(tf.keras.layers.Dense(NUM_CLASSES, activation='softmax'))\r\n",
    "model_final.add(tf.keras.layers.Dropout(0.2))\r\n",
    "model_final.compile(loss = 'categorical_crossentropy', optimizer = tf.keras.optimizers.Adam(), metrics=['accuracy'])"
   ],
   "outputs": [],
   "metadata": {}
  },
  {
   "cell_type": "code",
   "execution_count": 21,
   "source": [
    "stop_early = tf.keras.callbacks.EarlyStopping(monitor='val_loss', patience=3)\r\n",
    "epochs = 4\r\n",
    "batch_size = 50\r\n",
    "\r\n",
    "history = model_final.fit(X_train, y_train, epochs=epochs, batch_size=batch_size, validation_split=0.2, callbacks= [stop_early]) "
   ],
   "outputs": [
    {
     "output_type": "stream",
     "name": "stdout",
     "text": [
      "Epoch 1/4\n",
      "1364/1364 [==============================] - 70s 49ms/step - loss: 4.7292 - accuracy: 0.1750 - val_loss: 3.6313 - val_accuracy: 0.0000e+00\n",
      "Epoch 2/4\n",
      "1364/1364 [==============================] - 65s 48ms/step - loss: 4.7010 - accuracy: 0.2046 - val_loss: 3.9430 - val_accuracy: 1.1738e-04\n",
      "Epoch 3/4\n",
      "1364/1364 [==============================] - 68s 50ms/step - loss: 4.6055 - accuracy: 0.2270 - val_loss: 4.0648 - val_accuracy: 0.0055\n",
      "Epoch 4/4\n",
      "1364/1364 [==============================] - 75s 55ms/step - loss: 4.5831 - accuracy: 0.2550 - val_loss: 4.3148 - val_accuracy: 0.0117\n"
     ]
    }
   ],
   "metadata": {}
  },
  {
   "cell_type": "code",
   "execution_count": 23,
   "source": [
    "test_loss, test_acc = model_final.evaluate(X_test, y_test)\r\n",
    "\r\n",
    "print('Test Loss:', test_loss)\r\n",
    "print('Test Accuracy:', test_acc)"
   ],
   "outputs": [
    {
     "output_type": "stream",
     "name": "stdout",
     "text": [
      "445/445 [==============================] - 5s 10ms/step - loss: 2.3382 - accuracy: 0.1686\n",
      "Test Loss: 2.338200092315674\n",
      "Test Accuracy: 0.16859933733940125\n"
     ]
    }
   ],
   "metadata": {}
  },
  {
   "cell_type": "code",
   "execution_count": 26,
   "source": [
    "model_final.save(\"C:/Users/austi/reddit_text/saved_model\", save_format=\"h5\")"
   ],
   "outputs": [],
   "metadata": {}
  },
  {
   "cell_type": "code",
   "execution_count": null,
   "source": [],
   "outputs": [],
   "metadata": {}
  }
 ]
}